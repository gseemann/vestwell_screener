{
 "cells": [
  {
   "cell_type": "markdown",
   "metadata": {},
   "source": [
    "# Vestwell Python Screener"
   ]
  },
  {
   "cell_type": "markdown",
   "metadata": {},
   "source": [
    "If you have any questions or feel you are making assumptions, please record them in this notebook or in comments if you'd rather work in a `.py` file.  If you get stuck, try to explain in words how you would complete the task(s).\n",
    "\n",
    "### Background\n",
    "\n",
    "Vestwell provides a wide variety of investment choices to its users.  Participants in a retirement plan can choose between a pre-determined set of funds or they can choose their own custom set of funds from a list of choices.  Advisors can create their own models with a custom set of funds in which participants can choose to invest.  As a result, there are thousands of unique models on the Vestwell platform.  \n",
    "\n",
    "One of Vestwell's partners has the same list of models in its database.  This partner will maintain an up-to-date list of funds for each model in their database.  For example, when a fund closes and is replaced by a new one, Vestwell's partner will update the model with the new fund in their database, but not in Vestwell's.  For this reason, Vestwell's database and our partner's database will get out of sync over time.  Unless, that is, you can build python script to reconcile the two databases.  We're rooting for you!\n",
    "\n",
    "### The Data\n",
    "\n",
    "Here's a high-level overview of the data.  We'll get into more details below as we dig in.\n",
    "\n",
    "**Vestwell Data**\n",
    "\n",
    "Each `program_id` has many `model_id`s.  Each `model_id` has many `symbol`s.\n",
    "\n",
    "* model.csv:  Associations of programs to models.\n",
    "* model_prop.csv:  Association of models to symbols.\n",
    "\n",
    "**Partner Data**\n",
    "\n",
    "Each `PLANID` has many `FUNDID`s.\n",
    "\n",
    "* partner.csv:  Association of `PLANID` to `FUNDID` and `PLANINVCLOSEDATE`.  \n",
    "\n",
    "**Some extra notes**\n",
    "\n",
    "* The `FUNDID` in our partner's data is equivalent to `symbol` in Vestwell's data.  These are also referred to as \"funds\".\n",
    "* The `PLANID` in our partner's data has information that is equivalent to the `program_id` in Vestwell's database (more details below in Step 2).\n",
    "* The `PLANINVCLOSEDATE` in our partner's database is the date when a fund was closed.  If there isn't a date, then the fund has not been closed.\n",
    "* Sometimes our partner has funds called either \"Medicham\" or \"Electrike\" which we ignore.\n",
    "\n",
    "### Goal\n",
    "The goal of this exercise is to compare Vestwell's data with our partner's data.  We want to figure out if Vestwell's model data is the same as our Partner's model data.  We consider our partner's database the source of truth since their database will remain updated if there are any changes to funds.  Here's specifically what we are asking:\n",
    "\n",
    "1.  Do the list of funds for each `program_id` in Vestwell's database match the list of funds in our partner's database?  If there are any mismatches, what funds are missing from each database?   \n",
    "\n",
    "For example, if Vestwell's database has funds A, B and C for a `program_id` and our partner's database has funds B, C, and D for the same `program_id` we would report that fund A is missing from our partner's database and that fund D is missing from our database.\n",
    "\n",
    "2.  Are there any funds in Vestwell's database that have closed?  If so, what are they for each `program_id`?\n",
    "\n",
    "For example, if our database has funds D, E, and F for a `program_id` and partner's database shows that fund D closed on 11/1/2019, then we would report that fund D has closed for that `program_id`.\n",
    "\n",
    "Ideally, the output is in a form that can be passed to a Business Analyst to take action on.  For example, the output could look something like this:\n",
    "\n",
    "| program_id | fund_missing_at_vw | fund_missing_at_partner | fund_closed |\n",
    "|------------|---------------|--------------------|--------|\n",
    "| 1          | None          | None               | None   |\n",
    "| 2          | D, Z             | A                  | F   |\n",
    "| 3          | F             | None               | F      |"
   ]
  },
  {
   "cell_type": "markdown",
   "metadata": {},
   "source": [
    "## Table Schema\n"
   ]
  },
  {
   "cell_type": "markdown",
   "metadata": {},
   "source": [
    "![Schema](data/Vestwell_challange.png)"
   ]
  },
  {
   "cell_type": "markdown",
   "metadata": {},
   "source": [
    "## Step 0\n",
    "Import any packages you'll need"
   ]
  },
  {
   "cell_type": "code",
   "execution_count": 1,
   "metadata": {
    "ExecuteTime": {
     "end_time": "2020-03-04T22:54:27.117927Z",
     "start_time": "2020-03-04T22:54:26.518884Z"
    }
   },
   "outputs": [],
   "source": [
    "import pandas as pd"
   ]
  },
  {
   "cell_type": "markdown",
   "metadata": {
    "heading_collapsed": true
   },
   "source": [
    "## Step 1\n",
    "Import `partner.csv`, `model.csv`, and `model_prop.csv`."
   ]
  },
  {
   "cell_type": "code",
   "execution_count": 3,
   "metadata": {
    "ExecuteTime": {
     "end_time": "2020-03-04T23:24:55.587617Z",
     "start_time": "2020-03-04T23:24:55.569341Z"
    },
    "hidden": true,
    "scrolled": true
   },
   "outputs": [
    {
     "data": {
      "text/html": [
       "<div>\n",
       "<style scoped>\n",
       "    .dataframe tbody tr th:only-of-type {\n",
       "        vertical-align: middle;\n",
       "    }\n",
       "\n",
       "    .dataframe tbody tr th {\n",
       "        vertical-align: top;\n",
       "    }\n",
       "\n",
       "    .dataframe thead th {\n",
       "        text-align: right;\n",
       "    }\n",
       "</style>\n",
       "<table border=\"1\" class=\"dataframe\">\n",
       "  <thead>\n",
       "    <tr style=\"text-align: right;\">\n",
       "      <th></th>\n",
       "      <th>model_id</th>\n",
       "      <th>program_id</th>\n",
       "    </tr>\n",
       "  </thead>\n",
       "  <tbody>\n",
       "    <tr>\n",
       "      <th>0</th>\n",
       "      <td>28</td>\n",
       "      <td>3</td>\n",
       "    </tr>\n",
       "    <tr>\n",
       "      <th>1</th>\n",
       "      <td>34</td>\n",
       "      <td>4</td>\n",
       "    </tr>\n",
       "    <tr>\n",
       "      <th>2</th>\n",
       "      <td>42</td>\n",
       "      <td>4</td>\n",
       "    </tr>\n",
       "    <tr>\n",
       "      <th>3</th>\n",
       "      <td>24</td>\n",
       "      <td>3</td>\n",
       "    </tr>\n",
       "    <tr>\n",
       "      <th>4</th>\n",
       "      <td>64</td>\n",
       "      <td>8</td>\n",
       "    </tr>\n",
       "  </tbody>\n",
       "</table>\n",
       "</div>"
      ],
      "text/plain": [
       "   model_id  program_id\n",
       "0        28           3\n",
       "1        34           4\n",
       "2        42           4\n",
       "3        24           3\n",
       "4        64           8"
      ]
     },
     "execution_count": 3,
     "metadata": {},
     "output_type": "execute_result"
    }
   ],
   "source": [
    "model = pd.read_csv('data/model_abridged.csv')\n",
    "model.head()"
   ]
  },
  {
   "cell_type": "code",
   "execution_count": 5,
   "metadata": {
    "ExecuteTime": {
     "end_time": "2020-03-04T23:25:59.971936Z",
     "start_time": "2020-03-04T23:25:59.961519Z"
    },
    "hidden": true,
    "scrolled": true
   },
   "outputs": [
    {
     "data": {
      "text/html": [
       "<div>\n",
       "<style scoped>\n",
       "    .dataframe tbody tr th:only-of-type {\n",
       "        vertical-align: middle;\n",
       "    }\n",
       "\n",
       "    .dataframe tbody tr th {\n",
       "        vertical-align: top;\n",
       "    }\n",
       "\n",
       "    .dataframe thead th {\n",
       "        text-align: right;\n",
       "    }\n",
       "</style>\n",
       "<table border=\"1\" class=\"dataframe\">\n",
       "  <thead>\n",
       "    <tr style=\"text-align: right;\">\n",
       "      <th></th>\n",
       "      <th>model_props_id</th>\n",
       "      <th>model_id</th>\n",
       "      <th>symbol</th>\n",
       "    </tr>\n",
       "  </thead>\n",
       "  <tbody>\n",
       "    <tr>\n",
       "      <th>0</th>\n",
       "      <td>541</td>\n",
       "      <td>80</td>\n",
       "      <td>Bulbasaur</td>\n",
       "    </tr>\n",
       "    <tr>\n",
       "      <th>1</th>\n",
       "      <td>542</td>\n",
       "      <td>80</td>\n",
       "      <td>Ivysaur</td>\n",
       "    </tr>\n",
       "    <tr>\n",
       "      <th>2</th>\n",
       "      <td>543</td>\n",
       "      <td>80</td>\n",
       "      <td>Venusaur</td>\n",
       "    </tr>\n",
       "    <tr>\n",
       "      <th>3</th>\n",
       "      <td>544</td>\n",
       "      <td>80</td>\n",
       "      <td>VenusaurMega Venusaur</td>\n",
       "    </tr>\n",
       "    <tr>\n",
       "      <th>4</th>\n",
       "      <td>545</td>\n",
       "      <td>80</td>\n",
       "      <td>Charmander</td>\n",
       "    </tr>\n",
       "  </tbody>\n",
       "</table>\n",
       "</div>"
      ],
      "text/plain": [
       "   model_props_id  model_id                 symbol\n",
       "0             541        80              Bulbasaur\n",
       "1             542        80                Ivysaur\n",
       "2             543        80               Venusaur\n",
       "3             544        80  VenusaurMega Venusaur\n",
       "4             545        80             Charmander"
      ]
     },
     "execution_count": 5,
     "metadata": {},
     "output_type": "execute_result"
    }
   ],
   "source": [
    "model_prop = pd.read_csv('data/model_props_abridged.csv')\n",
    "model_prop.head()\n"
   ]
  },
  {
   "cell_type": "code",
   "execution_count": 6,
   "metadata": {
    "ExecuteTime": {
     "end_time": "2020-03-04T23:26:32.973092Z",
     "start_time": "2020-03-04T23:26:32.962315Z"
    },
    "hidden": true
   },
   "outputs": [
    {
     "data": {
      "text/html": [
       "<div>\n",
       "<style scoped>\n",
       "    .dataframe tbody tr th:only-of-type {\n",
       "        vertical-align: middle;\n",
       "    }\n",
       "\n",
       "    .dataframe tbody tr th {\n",
       "        vertical-align: top;\n",
       "    }\n",
       "\n",
       "    .dataframe thead th {\n",
       "        text-align: right;\n",
       "    }\n",
       "</style>\n",
       "<table border=\"1\" class=\"dataframe\">\n",
       "  <thead>\n",
       "    <tr style=\"text-align: right;\">\n",
       "      <th></th>\n",
       "      <th>PLANID</th>\n",
       "      <th>PLANINVCLOSEDATE</th>\n",
       "      <th>FUNDID</th>\n",
       "    </tr>\n",
       "  </thead>\n",
       "  <tbody>\n",
       "    <tr>\n",
       "      <th>0</th>\n",
       "      <td>VW0008000039</td>\n",
       "      <td>active</td>\n",
       "      <td>Medicham</td>\n",
       "    </tr>\n",
       "    <tr>\n",
       "      <th>1</th>\n",
       "      <td>VW0008000039</td>\n",
       "      <td>active</td>\n",
       "      <td>Arcanine</td>\n",
       "    </tr>\n",
       "    <tr>\n",
       "      <th>2</th>\n",
       "      <td>VW0008000039</td>\n",
       "      <td>11/01/2018</td>\n",
       "      <td>Clefairy</td>\n",
       "    </tr>\n",
       "    <tr>\n",
       "      <th>3</th>\n",
       "      <td>VW0008000039</td>\n",
       "      <td>active</td>\n",
       "      <td>Zubat</td>\n",
       "    </tr>\n",
       "    <tr>\n",
       "      <th>4</th>\n",
       "      <td>VW0008000039</td>\n",
       "      <td>active</td>\n",
       "      <td>Nidoking</td>\n",
       "    </tr>\n",
       "  </tbody>\n",
       "</table>\n",
       "</div>"
      ],
      "text/plain": [
       "         PLANID PLANINVCLOSEDATE    FUNDID\n",
       "0  VW0008000039           active  Medicham\n",
       "1  VW0008000039           active  Arcanine\n",
       "2  VW0008000039       11/01/2018  Clefairy\n",
       "3  VW0008000039           active     Zubat\n",
       "4  VW0008000039           active  Nidoking"
      ]
     },
     "execution_count": 6,
     "metadata": {},
     "output_type": "execute_result"
    }
   ],
   "source": [
    "partner = pd.read_csv('data/partner_abridged.csv')\n",
    "partner.head()"
   ]
  },
  {
   "cell_type": "code",
   "execution_count": 20,
   "metadata": {
    "ExecuteTime": {
     "end_time": "2020-03-05T00:24:33.177264Z",
     "start_time": "2020-03-05T00:24:33.171536Z"
    },
    "hidden": true,
    "scrolled": false
   },
   "outputs": [
    {
     "name": "stdout",
     "output_type": "stream",
     "text": [
      "<class 'pandas.core.frame.DataFrame'>\n",
      "RangeIndex: 445 entries, 0 to 444\n",
      "Data columns (total 3 columns):\n",
      "PLANID              445 non-null object\n",
      "PLANINVCLOSEDATE    445 non-null object\n",
      "FUNDID              445 non-null object\n",
      "dtypes: object(3)\n",
      "memory usage: 10.5+ KB\n"
     ]
    }
   ],
   "source": [
    "partner.info()"
   ]
  },
  {
   "cell_type": "markdown",
   "metadata": {},
   "source": [
    "## Find Unique Columns in each table"
   ]
  },
  {
   "cell_type": "markdown",
   "metadata": {
    "heading_collapsed": true
   },
   "source": [
    "### in Model table model_id is unique"
   ]
  },
  {
   "cell_type": "code",
   "execution_count": 17,
   "metadata": {
    "ExecuteTime": {
     "end_time": "2020-03-04T23:39:32.811099Z",
     "start_time": "2020-03-04T23:39:32.804488Z"
    },
    "hidden": true,
    "scrolled": true
   },
   "outputs": [
    {
     "data": {
      "text/plain": [
       "336    1\n",
       "74     1\n",
       "83     1\n",
       "82     1\n",
       "81     1\n",
       "80     1\n",
       "335    1\n",
       "347    1\n",
       "333    1\n",
       "332    1\n",
       "75     1\n",
       "73     1\n",
       "62     1\n",
       "72     1\n",
       "71     1\n",
       "326    1\n",
       "69     1\n",
       "68     1\n",
       "67     1\n",
       "66     1\n",
       "65     1\n",
       "64     1\n",
       "84     1\n",
       "85     1\n",
       "86     1\n",
       "87     1\n",
       "106    1\n",
       "105    1\n",
       "104    1\n",
       "103    1\n",
       "      ..\n",
       "374    1\n",
       "378    1\n",
       "379    1\n",
       "113    1\n",
       "112    1\n",
       "111    1\n",
       "223    1\n",
       "352    1\n",
       "100    1\n",
       "151    1\n",
       "328    1\n",
       "19     1\n",
       "329    1\n",
       "278    1\n",
       "334    1\n",
       "349    1\n",
       "18     1\n",
       "163    1\n",
       "162    1\n",
       "161    1\n",
       "160    1\n",
       "159    1\n",
       "158    1\n",
       "157    1\n",
       "156    1\n",
       "155    1\n",
       "154    1\n",
       "153    1\n",
       "152    1\n",
       "282    1\n",
       "Name: model_id, Length: 187, dtype: int64"
      ]
     },
     "execution_count": 17,
     "metadata": {},
     "output_type": "execute_result"
    }
   ],
   "source": [
    "#model.model_id looks like a unique key\n",
    "model.model_id.value_counts()"
   ]
  },
  {
   "cell_type": "markdown",
   "metadata": {
    "heading_collapsed": true
   },
   "source": [
    "### in model_prop table model_props_id is unique"
   ]
  },
  {
   "cell_type": "code",
   "execution_count": 21,
   "metadata": {
    "ExecuteTime": {
     "end_time": "2020-03-05T00:47:02.774574Z",
     "start_time": "2020-03-05T00:47:02.768157Z"
    },
    "hidden": true,
    "scrolled": true
   },
   "outputs": [
    {
     "data": {
      "text/plain": [
       "2525    1\n",
       "1382    1\n",
       "354     1\n",
       "353     1\n",
       "352     1\n",
       "351     1\n",
       "350     1\n",
       "349     1\n",
       "348     1\n",
       "347     1\n",
       "346     1\n",
       "345     1\n",
       "344     1\n",
       "343     1\n",
       "342     1\n",
       "341     1\n",
       "340     1\n",
       "339     1\n",
       "338     1\n",
       "337     1\n",
       "336     1\n",
       "1381    1\n",
       "1383    1\n",
       "334     1\n",
       "1384    1\n",
       "1629    1\n",
       "1884    1\n",
       "1873    1\n",
       "2738    1\n",
       "1399    1\n",
       "       ..\n",
       "632     1\n",
       "631     1\n",
       "630     1\n",
       "629     1\n",
       "628     1\n",
       "627     1\n",
       "626     1\n",
       "645     1\n",
       "646     1\n",
       "647     1\n",
       "1659    1\n",
       "2714    1\n",
       "1630    1\n",
       "2712    1\n",
       "2711    1\n",
       "2530    1\n",
       "2709    1\n",
       "2708    1\n",
       "2707    1\n",
       "2705    1\n",
       "2542    1\n",
       "1626    1\n",
       "2703    1\n",
       "2702    1\n",
       "2701    1\n",
       "2700    1\n",
       "2699    1\n",
       "2698    1\n",
       "2697    1\n",
       "1615    1\n",
       "Name: model_props_id, Length: 729, dtype: int64"
      ]
     },
     "execution_count": 21,
     "metadata": {},
     "output_type": "execute_result"
    }
   ],
   "source": [
    "#model.model_id looks like a unique key\n",
    "model_prop.model_props_id.value_counts()"
   ]
  },
  {
   "cell_type": "markdown",
   "metadata": {},
   "source": [
    "### Partner table does NOT have any unique columns"
   ]
  },
  {
   "cell_type": "code",
   "execution_count": 23,
   "metadata": {
    "ExecuteTime": {
     "end_time": "2020-03-05T22:28:43.942397Z",
     "start_time": "2020-03-05T22:28:43.935697Z"
    },
    "scrolled": true
   },
   "outputs": [
    {
     "data": {
      "text/plain": [
       "Electrike                    18\n",
       "Medicham                     12\n",
       "CharizardMega Charizard X     9\n",
       "Charmander                    9\n",
       "CharizardMega Charizard Y     6\n",
       "Bulbasaur                     6\n",
       "Gastly                        6\n",
       "Charmeleon                    6\n",
       "BlastoiseMega Blastoise       6\n",
       "Farfetch'd                    5\n",
       "Magnemite                     5\n",
       "Slowbro                       5\n",
       "Blastoise                     5\n",
       "VenusaurMega Venusaur         5\n",
       "Rapidash                      5\n",
       "Magikarp                      4\n",
       "SlowbroMega Slowbro           4\n",
       "Venusaur                      4\n",
       "Growlithe                     4\n",
       "Ponyta                        4\n",
       "Doduo                         4\n",
       "Slowpoke                      4\n",
       "Squirtle                      4\n",
       "Magneton                      4\n",
       "Charizard                     4\n",
       "Haunter                       4\n",
       "Xatu                          3\n",
       "Nidorino                      3\n",
       "Raichu                        3\n",
       "Geodude                       3\n",
       "                             ..\n",
       "Elekid                        1\n",
       "Larvitar                      1\n",
       "Grovyle                       1\n",
       "Golbat                        1\n",
       "Ledian                        1\n",
       "Butterfree                    1\n",
       "Hoppip                        1\n",
       "Murkrow                       1\n",
       "Skiploom                      1\n",
       "Gloom                         1\n",
       "Treecko                       1\n",
       "Ditto                         1\n",
       "Sunkern                       1\n",
       "Remoraid                      1\n",
       "Houndoom                      1\n",
       "Ampharos                      1\n",
       "Spinarak                      1\n",
       "Lugia                         1\n",
       "Gligar                        1\n",
       "Carvanha                      1\n",
       "Pinsir                        1\n",
       "Lanturn                       1\n",
       "Volbeat                       1\n",
       "Forretress                    1\n",
       "Typhlosion                    1\n",
       "Suicune                       1\n",
       "Igglybuff                     1\n",
       "Ledyba                        1\n",
       "Machoke                       1\n",
       "Miltank                       1\n",
       "Name: FUNDID, Length: 250, dtype: int64"
      ]
     },
     "execution_count": 23,
     "metadata": {},
     "output_type": "execute_result"
    }
   ],
   "source": [
    "partner.FUNDID.value_counts()"
   ]
  },
  {
   "cell_type": "code",
   "execution_count": null,
   "metadata": {},
   "outputs": [],
   "source": []
  },
  {
   "cell_type": "markdown",
   "metadata": {},
   "source": [
    "## Step 2 - working with the `partner.csv` data\n",
    "Extract the `program_id` from the `PLANID` column in the `partner` dataframe.  The `program_id` is the first four characters in `PLANID` after \"VW\".  It's usually an integer.  If instead of digits, those characters are equal to \"PALL\" then the `program_id` = 1.  Drop any other rows remaining that do not have four digits in the first four characters after \"VW\" in the `PLANID` column."
   ]
  },
  {
   "cell_type": "code",
   "execution_count": null,
   "metadata": {},
   "outputs": [],
   "source": [
    "x = 0023"
   ]
  },
  {
   "cell_type": "code",
   "execution_count": null,
   "metadata": {},
   "outputs": [],
   "source": [
    "def get_plan(plan_id):\n",
    "    if plan_id[2:6]=='PALL':\n",
    "        return 1\n",
    "    #need to remove leading zeros 00\n",
    "    if type(plan_id[2:6])"
   ]
  },
  {
   "cell_type": "code",
   "execution_count": 40,
   "metadata": {
    "ExecuteTime": {
     "end_time": "2020-03-05T22:58:45.905838Z",
     "start_time": "2020-03-05T22:58:45.897543Z"
    },
    "scrolled": false
   },
   "outputs": [
    {
     "data": {
      "text/html": [
       "<div>\n",
       "<style scoped>\n",
       "    .dataframe tbody tr th:only-of-type {\n",
       "        vertical-align: middle;\n",
       "    }\n",
       "\n",
       "    .dataframe tbody tr th {\n",
       "        vertical-align: top;\n",
       "    }\n",
       "\n",
       "    .dataframe thead th {\n",
       "        text-align: right;\n",
       "    }\n",
       "</style>\n",
       "<table border=\"1\" class=\"dataframe\">\n",
       "  <thead>\n",
       "    <tr style=\"text-align: right;\">\n",
       "      <th></th>\n",
       "      <th>PLANID</th>\n",
       "      <th>PLANINVCLOSEDATE</th>\n",
       "      <th>FUNDID</th>\n",
       "      <th>prog_id</th>\n",
       "    </tr>\n",
       "  </thead>\n",
       "  <tbody>\n",
       "    <tr>\n",
       "      <th>0</th>\n",
       "      <td>VW0008000039</td>\n",
       "      <td>active</td>\n",
       "      <td>Medicham</td>\n",
       "      <td>0</td>\n",
       "    </tr>\n",
       "    <tr>\n",
       "      <th>1</th>\n",
       "      <td>VW0008000039</td>\n",
       "      <td>active</td>\n",
       "      <td>Arcanine</td>\n",
       "      <td>0</td>\n",
       "    </tr>\n",
       "    <tr>\n",
       "      <th>2</th>\n",
       "      <td>VW0008000039</td>\n",
       "      <td>11/01/2018</td>\n",
       "      <td>Clefairy</td>\n",
       "      <td>0</td>\n",
       "    </tr>\n",
       "    <tr>\n",
       "      <th>3</th>\n",
       "      <td>VW0008000039</td>\n",
       "      <td>active</td>\n",
       "      <td>Zubat</td>\n",
       "      <td>0</td>\n",
       "    </tr>\n",
       "    <tr>\n",
       "      <th>4</th>\n",
       "      <td>VW0008000039</td>\n",
       "      <td>active</td>\n",
       "      <td>Nidoking</td>\n",
       "      <td>0</td>\n",
       "    </tr>\n",
       "    <tr>\n",
       "      <th>5</th>\n",
       "      <td>VW0008000039</td>\n",
       "      <td>active</td>\n",
       "      <td>Jigglypuff</td>\n",
       "      <td>0</td>\n",
       "    </tr>\n",
       "    <tr>\n",
       "      <th>6</th>\n",
       "      <td>VW0008000039</td>\n",
       "      <td>active</td>\n",
       "      <td>CharizardMega Charizard X</td>\n",
       "      <td>0</td>\n",
       "    </tr>\n",
       "    <tr>\n",
       "      <th>7</th>\n",
       "      <td>VW0008000039</td>\n",
       "      <td>active</td>\n",
       "      <td>Electrike</td>\n",
       "      <td>0</td>\n",
       "    </tr>\n",
       "    <tr>\n",
       "      <th>8</th>\n",
       "      <td>VW0008000039</td>\n",
       "      <td>active</td>\n",
       "      <td>Growlithe</td>\n",
       "      <td>0</td>\n",
       "    </tr>\n",
       "    <tr>\n",
       "      <th>9</th>\n",
       "      <td>VW0008000039</td>\n",
       "      <td>active</td>\n",
       "      <td>Fearow</td>\n",
       "      <td>0</td>\n",
       "    </tr>\n",
       "  </tbody>\n",
       "</table>\n",
       "</div>"
      ],
      "text/plain": [
       "         PLANID PLANINVCLOSEDATE                     FUNDID  prog_id\n",
       "0  VW0008000039           active                   Medicham        0\n",
       "1  VW0008000039           active                   Arcanine        0\n",
       "2  VW0008000039       11/01/2018                   Clefairy        0\n",
       "3  VW0008000039           active                      Zubat        0\n",
       "4  VW0008000039           active                   Nidoking        0\n",
       "5  VW0008000039           active                 Jigglypuff        0\n",
       "6  VW0008000039           active  CharizardMega Charizard X        0\n",
       "7  VW0008000039           active                  Electrike        0\n",
       "8  VW0008000039           active                  Growlithe        0\n",
       "9  VW0008000039           active                     Fearow        0"
      ]
     },
     "execution_count": 40,
     "metadata": {},
     "output_type": "execute_result"
    }
   ],
   "source": [
    "partner.head(10)"
   ]
  },
  {
   "cell_type": "code",
   "execution_count": 39,
   "metadata": {
    "ExecuteTime": {
     "end_time": "2020-03-05T22:58:02.717926Z",
     "start_time": "2020-03-05T22:58:02.714739Z"
    }
   },
   "outputs": [],
   "source": [
    "partner['prog_id'] = 0"
   ]
  },
  {
   "cell_type": "code",
   "execution_count": null,
   "metadata": {},
   "outputs": [],
   "source": [
    "partner.prog_id = partner.PLANID.apply(lambda x: get_plan(x))"
   ]
  },
  {
   "cell_type": "code",
   "execution_count": null,
   "metadata": {},
   "outputs": [],
   "source": []
  },
  {
   "cell_type": "markdown",
   "metadata": {},
   "source": [
    "# Step 3\n",
    "Check if the funds match for each `program_id`.  In `partner.csv` the funds are in the `FUNDID` column and for `model_prop.csv` the funds are in the `symbol` column.  If there are any mismatches, return a list of which funds are missing from each database for each `program_id`."
   ]
  },
  {
   "cell_type": "code",
   "execution_count": null,
   "metadata": {},
   "outputs": [],
   "source": []
  },
  {
   "cell_type": "markdown",
   "metadata": {},
   "source": [
    "# Step 4 - Check for any closed funds\n",
    "Check each `program_id` to see if our partner has indicated a fund that is in Vestwell's `model` has been closed and add that to the output from Step 3."
   ]
  },
  {
   "cell_type": "code",
   "execution_count": null,
   "metadata": {},
   "outputs": [],
   "source": []
  }
 ],
 "metadata": {
  "kernelspec": {
   "display_name": "Python 3",
   "language": "python",
   "name": "python3"
  },
  "language_info": {
   "codemirror_mode": {
    "name": "ipython",
    "version": 3
   },
   "file_extension": ".py",
   "mimetype": "text/x-python",
   "name": "python",
   "nbconvert_exporter": "python",
   "pygments_lexer": "ipython3",
   "version": "3.7.3"
  },
  "varInspector": {
   "cols": {
    "lenName": 16,
    "lenType": 16,
    "lenVar": 40
   },
   "kernels_config": {
    "python": {
     "delete_cmd_postfix": "",
     "delete_cmd_prefix": "del ",
     "library": "var_list.py",
     "varRefreshCmd": "print(var_dic_list())"
    },
    "r": {
     "delete_cmd_postfix": ") ",
     "delete_cmd_prefix": "rm(",
     "library": "var_list.r",
     "varRefreshCmd": "cat(var_dic_list()) "
    }
   },
   "types_to_exclude": [
    "module",
    "function",
    "builtin_function_or_method",
    "instance",
    "_Feature"
   ],
   "window_display": false
  }
 },
 "nbformat": 4,
 "nbformat_minor": 4
}
