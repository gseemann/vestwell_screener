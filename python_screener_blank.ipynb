{
 "cells": [
  {
   "cell_type": "markdown",
   "metadata": {},
   "source": [
    "# Vestwell Python Screener"
   ]
  },
  {
   "cell_type": "markdown",
   "metadata": {},
   "source": [
    "If you have any questions or feel you are making assumptions, please record them in this notebook or in comments if you'd rather work in a `.py` file.  If you get stuck, try to explain in words how you would complete the task(s).\n",
    "\n",
    "### Background\n",
    "\n",
    "Vestwell provides a wide variety of investment choices to its users.  Participants in a retirement plan can choose between a pre-determined set of funds or they can choose their own custom set of funds from a list of choices.  Advisors can create their own models with a custom set of funds in which participants can choose to invest.  As a result, there are thousands of unique models on the Vestwell platform.  \n",
    "\n",
    "One of Vestwell's partners has the same list of models in its database.  This partner will maintain an up-to-date list of funds for each model in their database.  For example, when a fund closes and is replaced by a new one, Vestwell's partner will update the model with the new fund in their database, but not in Vestwell's.  For this reason, Vestwell's database and our partner's database will get out of sync over time.  Unless, that is, you can build python script to reconcile the two databases.  We're rooting for you!\n",
    "\n",
    "### The Data\n",
    "\n",
    "Here's a high-level overview of the data.  We'll get into more details below as we dig in.\n",
    "\n",
    "**Vestwell Data**\n",
    "\n",
    "Each `program_id` has many `model_id`s.  Each `model_id` has many `symbol`s.\n",
    "\n",
    "* model.csv:  Associations of programs to models.\n",
    "* model_prop.csv:  Association of models to symbols.\n",
    "\n",
    "**Partner Data**\n",
    "\n",
    "Each `PLANID` has many `FUNDID`s.\n",
    "\n",
    "* partner.csv:  Association of `PLANID` to `FUNDID` and `PLANINVCLOSEDATE`.  \n",
    "\n",
    "**Some extra notes**\n",
    "\n",
    "* The `FUNDID` in our partner's data is equivalent to `symbol` in Vestwell's data.  These are also referred to as \"funds\".\n",
    "* The `PLANID` in our partner's data has information that is equivalent to the `program_id` in Vestwell's database (more details below in Step 2).\n",
    "* The `PLANINVCLOSEDATE` in our partner's database is the date when a fund was closed.  If there isn't a date, then the fund has not been closed.\n",
    "* Sometimes our partner has funds called either \"Medicham\" or \"Electrike\" which we ignore.\n",
    "\n",
    "### Goal\n",
    "The goal of this exercise is to compare Vestwell's data with our partner's data.  We want to figure out if Vestwell's model data is the same as our Partner's model data.  We consider our partner's database the source of truth since their database will remain updated if there are any changes to funds.  Here's specifically what we are asking:\n",
    "\n",
    "1.  Do the list of funds for each `program_id` in Vestwell's database match the list of funds in our partner's database?  If there are any mismatches, what funds are missing from each database?   \n",
    "\n",
    "For example, if Vestwell's database has funds A, B and C for a `program_id` and our partner's database has funds B, C, and D for the same `program_id` we would report that fund A is missing from our partner's database and that fund D is missing from our database.\n",
    "\n",
    "2.  Are there any funds in Vestwell's database that have closed?  If so, what are they for each `program_id`?\n",
    "\n",
    "For example, if our database has funds D, E, and F for a `program_id` and partner's database shows that fund D closed on 11/1/2019, then we would report that fund D has closed for that `program_id`.\n",
    "\n",
    "Ideally, the output is in a form that can be passed to a Business Analyst to take action on.  For example, the output could look something like this:\n",
    "\n",
    "| program_id | fund_missing_at_vw | fund_missing_at_partner | fund_closed |\n",
    "|------------|---------------|--------------------|--------|\n",
    "| 1          | None          | None               | None   |\n",
    "| 2          | D, Z             | A                  | F   |\n",
    "| 3          | F             | None               | F      |"
   ]
  },
  {
   "cell_type": "markdown",
   "metadata": {},
   "source": [
    "## Step 0\n",
    "Import any packages you'll need"
   ]
  },
  {
   "cell_type": "code",
   "execution_count": 1,
   "metadata": {},
   "outputs": [],
   "source": []
  },
  {
   "cell_type": "markdown",
   "metadata": {},
   "source": [
    "## Step 1\n",
    "Import `partner.csv`, `model.csv`, and `model_prop.csv`."
   ]
  },
  {
   "cell_type": "code",
   "execution_count": 2,
   "metadata": {},
   "outputs": [],
   "source": []
  },
  {
   "cell_type": "markdown",
   "metadata": {},
   "source": [
    "## Step 2 - working with the `partner.csv` data\n",
    "Extract the `program_id` from the `PLANID` column in the `partner` dataframe.  The `program_id` is the first four characters in `PLANID` after \"VW\".  It's usually an integer.  If instead of digits, those characters are equal to \"PALL\" then the `program_id` = 1.  Drop any other rows remaining that do not have four digits in the first four characters after \"VW\" in the `PLANID` column."
   ]
  },
  {
   "cell_type": "code",
   "execution_count": 27,
   "metadata": {},
   "outputs": [],
   "source": []
  },
  {
   "cell_type": "markdown",
   "metadata": {},
   "source": [
    "# Step 3\n",
    "Check if the funds match for each `program_id`.  In `partner.csv` the funds are in the `FUNDID` column and for `model_prop.csv` the funds are in the `symbol` column.  If there are any mismatches, return a list of which funds are missing from each database for each `program_id`."
   ]
  },
  {
   "cell_type": "code",
   "execution_count": null,
   "metadata": {},
   "outputs": [],
   "source": []
  },
  {
   "cell_type": "markdown",
   "metadata": {},
   "source": [
    "# Step 4 - Check for any closed funds\n",
    "Check each `program_id` to see if our partner has indicated a fund that is in Vestwell's `model` has been closed and add that to the output from Step 3."
   ]
  },
  {
   "cell_type": "code",
   "execution_count": null,
   "metadata": {},
   "outputs": [],
   "source": []
  }
 ],
 "metadata": {
  "kernelspec": {
   "display_name": "Python 3",
   "language": "python",
   "name": "python3"
  },
  "language_info": {
   "codemirror_mode": {
    "name": "ipython",
    "version": 3
   },
   "file_extension": ".py",
   "mimetype": "text/x-python",
   "name": "python",
   "nbconvert_exporter": "python",
   "pygments_lexer": "ipython3",
   "version": "3.7.3"
  }
 },
 "nbformat": 4,
 "nbformat_minor": 4
}
